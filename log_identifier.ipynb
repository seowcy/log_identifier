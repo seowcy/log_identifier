{
 "cells": [
  {
   "cell_type": "code",
   "execution_count": 1,
   "metadata": {},
   "outputs": [],
   "source": [
    "import re\n",
    "import pandas as pd"
   ]
  },
  {
   "cell_type": "code",
   "execution_count": 2,
   "metadata": {},
   "outputs": [
    {
     "data": {
      "text/html": [
       "<div>\n",
       "<style scoped>\n",
       "    .dataframe tbody tr th:only-of-type {\n",
       "        vertical-align: middle;\n",
       "    }\n",
       "\n",
       "    .dataframe tbody tr th {\n",
       "        vertical-align: top;\n",
       "    }\n",
       "\n",
       "    .dataframe thead th {\n",
       "        text-align: right;\n",
       "    }\n",
       "</style>\n",
       "<table border=\"1\" class=\"dataframe\">\n",
       "  <thead>\n",
       "    <tr style=\"text-align: right;\">\n",
       "      <th></th>\n",
       "      <th>app_name</th>\n",
       "      <th>regex</th>\n",
       "      <th>sample</th>\n",
       "      <th>reference</th>\n",
       "    </tr>\n",
       "  </thead>\n",
       "  <tbody>\n",
       "    <tr>\n",
       "      <th>0</th>\n",
       "      <td>syslog_rfc3164</td>\n",
       "      <td>(?P&lt;timestamp&gt;[A-Z][a-z][a-z]\\s{1,2}\\d{1,2}\\s\\...</td>\n",
       "      <td>&lt;34&gt;Oct 11 22:14:15 mymachine su: 'su root' fa...</td>\n",
       "      <td>https://www.ietf.org/rfc/rfc3164.txt</td>\n",
       "    </tr>\n",
       "    <tr>\n",
       "      <th>1</th>\n",
       "      <td>syslog_rfc5424</td>\n",
       "      <td>(?:(?P&lt;timestamp&gt;\\d{4}[-]\\d{2}[-]\\d{2}[T]\\d{2}...</td>\n",
       "      <td>&lt;34&gt;1 2003-10-11T22:14:15.003Z mymachine.examp...</td>\n",
       "      <td>https://www.ietf.org/rfc/rfc5424.txt</td>\n",
       "    </tr>\n",
       "    <tr>\n",
       "      <th>2</th>\n",
       "      <td>syslog</td>\n",
       "      <td>(?P&lt;month&gt;\\S+)\\s+(?P&lt;date&gt;[0-9]{1,2})\\s+(?P&lt;ti...</td>\n",
       "      <td>Nov 21 23:17:01 ubuntu-xenial CRON[10299]: (ro...</td>\n",
       "      <td>https://stackoverflow.com/questions/53435437/p...</td>\n",
       "    </tr>\n",
       "    <tr>\n",
       "      <th>3</th>\n",
       "      <td>mikrotik_firewall</td>\n",
       "      <td>.+\\s(?P&lt;hostname&gt;\\S+)\\s(?P&lt;action&gt;\\S+)\\s(?P&lt;ch...</td>\n",
       "      <td>May 30 11:56:03 10.10.0.1 May 30 11:56:04 Happ...</td>\n",
       "      <td>https://regex101.com/r/sW8kS0/1</td>\n",
       "    </tr>\n",
       "    <tr>\n",
       "      <th>4</th>\n",
       "      <td>syslog</td>\n",
       "      <td>&lt;(?P&lt;Priority&gt;[0-9]{1,3})&gt;(?P&lt;Date&gt;[a-zA-Z]{1,...</td>\n",
       "      <td>&lt;133&gt;Feb 25 14:09:07 127.0.0.1 message msg=\"asdf\"</td>\n",
       "      <td>https://regex101.com/r/xR7gS2/1</td>\n",
       "    </tr>\n",
       "  </tbody>\n",
       "</table>\n",
       "</div>"
      ],
      "text/plain": [
       "            app_name                                              regex  \\\n",
       "0     syslog_rfc3164  (?P<timestamp>[A-Z][a-z][a-z]\\s{1,2}\\d{1,2}\\s\\...   \n",
       "1     syslog_rfc5424  (?:(?P<timestamp>\\d{4}[-]\\d{2}[-]\\d{2}[T]\\d{2}...   \n",
       "2             syslog  (?P<month>\\S+)\\s+(?P<date>[0-9]{1,2})\\s+(?P<ti...   \n",
       "3  mikrotik_firewall  .+\\s(?P<hostname>\\S+)\\s(?P<action>\\S+)\\s(?P<ch...   \n",
       "4             syslog  <(?P<Priority>[0-9]{1,3})>(?P<Date>[a-zA-Z]{1,...   \n",
       "\n",
       "                                              sample  \\\n",
       "0  <34>Oct 11 22:14:15 mymachine su: 'su root' fa...   \n",
       "1  <34>1 2003-10-11T22:14:15.003Z mymachine.examp...   \n",
       "2  Nov 21 23:17:01 ubuntu-xenial CRON[10299]: (ro...   \n",
       "3  May 30 11:56:03 10.10.0.1 May 30 11:56:04 Happ...   \n",
       "4  <133>Feb 25 14:09:07 127.0.0.1 message msg=\"asdf\"   \n",
       "\n",
       "                                           reference  \n",
       "0               https://www.ietf.org/rfc/rfc3164.txt  \n",
       "1               https://www.ietf.org/rfc/rfc5424.txt  \n",
       "2  https://stackoverflow.com/questions/53435437/p...  \n",
       "3                    https://regex101.com/r/sW8kS0/1  \n",
       "4                    https://regex101.com/r/xR7gS2/1  "
      ]
     },
     "execution_count": 2,
     "metadata": {},
     "output_type": "execute_result"
    }
   ],
   "source": [
    "# regex are stored in a double-semicolon (;;) delimited file \"formats.csv\"\n",
    "\n",
    "df = pd.read_csv(\"formats.csv\", \";;\", engine=\"python\")\n",
    "df.head()"
   ]
  },
  {
   "cell_type": "code",
   "execution_count": 3,
   "metadata": {
    "scrolled": true
   },
   "outputs": [],
   "source": [
    "# Sanity check that all samples get a match from their respective regex\n",
    "\n",
    "masks = []\n",
    "for pattern in df[\"regex\"].values:\n",
    "    masks.append(re.compile(pattern))\n",
    "\n",
    "for i in range(len(df)):\n",
    "    if not masks[i].search(df[\"sample\"].values[i]):\n",
    "        print(i)"
   ]
  },
  {
   "cell_type": "code",
   "execution_count": 4,
   "metadata": {},
   "outputs": [
    {
     "name": "stdout",
     "output_type": "stream",
     "text": [
      "syslog_rfc5424 match!\n",
      "apache_nginx_access_logs match!\n"
     ]
    }
   ],
   "source": [
    "# log-identifier\n",
    "\n",
    "log = '109.169.248.247 - - [12/Dec/2015:18:25:11 +0100] \"GET /administrator/ HTTP/1.1\" 200 4263 \"-\" \"Mozilla/5.0 (Windows NT 6.0; rv:34.0) Gecko/20100101 Firefox/34.0\" \"-\"'\n",
    "for i in range(len(df)):\n",
    "    if masks[i].search(log):\n",
    "        print(df[\"app_name\"].values[i] + \" match!\")"
   ]
  },
  {
   "cell_type": "code",
   "execution_count": null,
   "metadata": {},
   "outputs": [],
   "source": []
  }
 ],
 "metadata": {
  "kernelspec": {
   "display_name": "Python 3",
   "language": "python",
   "name": "python3"
  },
  "language_info": {
   "codemirror_mode": {
    "name": "ipython",
    "version": 3
   },
   "file_extension": ".py",
   "mimetype": "text/x-python",
   "name": "python",
   "nbconvert_exporter": "python",
   "pygments_lexer": "ipython3",
   "version": "3.7.2"
  }
 },
 "nbformat": 4,
 "nbformat_minor": 2
}
